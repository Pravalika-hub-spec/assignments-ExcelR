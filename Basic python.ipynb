{
 "cells": [
  {
   "cell_type": "markdown",
   "metadata": {
    "id": "f4FLo5vsoB_5"
   },
   "source": [
    "**Exercise 1: Prime Numbers**"
   ]
  },
  {
   "cell_type": "markdown",
   "metadata": {
    "id": "-UyJ3kgspLZw"
   },
   "source": [
    "Write a Python program that checks whether a given number is prime or not"
   ]
  },
  {
   "cell_type": "code",
   "execution_count": 40,
   "metadata": {
    "colab": {
     "base_uri": "https://localhost:8080/"
    },
    "id": "tvhCwRqUZVXB",
    "outputId": "b83c5297-9e3a-43ee-872c-39266e609b3d"
   },
   "outputs": [
    {
     "name": "stdout",
     "output_type": "stream",
     "text": [
      "Enter a number: 1\n",
      "1 is not a prime number.\n"
     ]
    }
   ],
   "source": [
    "def is_prime(number):\n",
    "    if number <= 1:\n",
    "        return False\n",
    "    for i in range(2, int(number ** 0.5) + 1):\n",
    "        if number % i == 0:\n",
    "            return False\n",
    "    return True\n",
    "# number from user\n",
    "num = int(input(\"Enter a number: \"))\n",
    "# Check if the number is prime or not\n",
    "if is_prime(num):\n",
    "    print(f\"{num} is a prime number.\")\n",
    "else:\n",
    "    print(f\"{num} is not a prime number.\")"
   ]
  },
  {
   "cell_type": "markdown",
   "metadata": {
    "id": "jfV2w8M4ohd-"
   },
   "source": [
    "**Exercise 2: Product of Random Numbers**"
   ]
  },
  {
   "cell_type": "markdown",
   "metadata": {
    "id": "_UYc55JXpPA4"
   },
   "source": [
    "Develop a Python program that generates two random numbers and asks the user to enter the product of these numbers. The program should then check if the user's answer is correct and display an appropriate message."
   ]
  },
  {
   "cell_type": "code",
   "execution_count": 41,
   "metadata": {
    "colab": {
     "base_uri": "https://localhost:8080/"
    },
    "id": "Nbi-P7jOc4WD",
    "outputId": "093ea83b-d3bf-425b-86c5-6cc53155e17f"
   },
   "outputs": [
    {
     "name": "stdout",
     "output_type": "stream",
     "text": [
      "What is the product of 3 and 2? 6\n",
      "Correct! Well done.\n"
     ]
    }
   ],
   "source": [
    "import random\n",
    "\n",
    "def multiplication_quiz():\n",
    "    # two random numbers between 1 and 10\n",
    "    num1 = random.randint(1,10)\n",
    "    num2 = random.randint(1,10)\n",
    "    correct_answer = num1 * num2\n",
    "     #  the user to enter the product\n",
    "    user_answer = int(input(f\"What is the product of {num1} and {num2}? \"))\n",
    "     # Checking the user's answer is correct or not\n",
    "    if user_answer == correct_answer:\n",
    "        print(\"Correct! Well done.\")\n",
    "    else:\n",
    "        print(f\"Incorrect. The correct answer is {correct_answer}.\")\n",
    "   #  quiz\n",
    "multiplication_quiz()"
   ]
  },
  {
   "cell_type": "markdown",
   "metadata": {
    "id": "tlt0VT48olAj"
   },
   "source": [
    "**Exercise 3: Squares of Even/Odd Numbers**"
   ]
  },
  {
   "cell_type": "markdown",
   "metadata": {
    "id": "ZILQju4opTTt"
   },
   "source": [
    "Create a Python script that prints the squares of all even or odd numbers within the range of 100 to 200. Choose either even or odd numbers and document your choice in the code."
   ]
  },
  {
   "cell_type": "code",
   "execution_count": 42,
   "metadata": {
    "colab": {
     "base_uri": "https://localhost:8080/"
    },
    "id": "mwH-Ps13eCq5",
    "outputId": "5d46816b-693e-40cc-d416-c0b4d490b1cc"
   },
   "outputs": [
    {
     "name": "stdout",
     "output_type": "stream",
     "text": [
      "101^2-->10201\n",
      "103^2-->10609\n",
      "105^2-->11025\n",
      "107^2-->11449\n",
      "109^2-->11881\n",
      "111^2-->12321\n",
      "113^2-->12769\n",
      "115^2-->13225\n",
      "117^2-->13689\n",
      "119^2-->14161\n",
      "121^2-->14641\n",
      "123^2-->15129\n",
      "125^2-->15625\n",
      "127^2-->16129\n",
      "129^2-->16641\n",
      "131^2-->17161\n",
      "133^2-->17689\n",
      "135^2-->18225\n",
      "137^2-->18769\n",
      "139^2-->19321\n",
      "141^2-->19881\n",
      "143^2-->20449\n",
      "145^2-->21025\n",
      "147^2-->21609\n",
      "149^2-->22201\n",
      "151^2-->22801\n",
      "153^2-->23409\n",
      "155^2-->24025\n",
      "157^2-->24649\n",
      "159^2-->25281\n",
      "161^2-->25921\n",
      "163^2-->26569\n",
      "165^2-->27225\n",
      "167^2-->27889\n",
      "169^2-->28561\n",
      "171^2-->29241\n",
      "173^2-->29929\n",
      "175^2-->30625\n",
      "177^2-->31329\n",
      "179^2-->32041\n",
      "181^2-->32761\n",
      "183^2-->33489\n",
      "185^2-->34225\n",
      "187^2-->34969\n",
      "189^2-->35721\n",
      "191^2-->36481\n",
      "193^2-->37249\n",
      "195^2-->38025\n",
      "197^2-->38809\n",
      "199^2-->39601\n"
     ]
    }
   ],
   "source": [
    "start = 100\n",
    "end = 200\n",
    "for num in range(start, end +1):\n",
    "    # Checking for odd number\n",
    "    if num % 2 != 0:\n",
    "        print(f\"{num}^2-->{num ** 2}\")"
   ]
  },
  {
   "cell_type": "markdown",
   "metadata": {
    "id": "BL08BKc-orZx"
   },
   "source": [
    "**Exercise 4: Word counter**"
   ]
  },
  {
   "cell_type": "markdown",
   "metadata": {
    "id": "-RFC1XUEpZnh"
   },
   "source": [
    "write a program to count the number of words in a given text."
   ]
  },
  {
   "cell_type": "code",
   "execution_count": 43,
   "metadata": {
    "colab": {
     "base_uri": "https://localhost:8080/"
    },
    "id": "_yZGbq7JgIjT",
    "outputId": "a79d8ee8-b674-436d-b209-e5f71bd17786"
   },
   "outputs": [
    {
     "name": "stdout",
     "output_type": "stream",
     "text": [
      "Number of words in the given text: 2\n"
     ]
    }
   ],
   "source": [
    "text= \"Datascience Assignment\"\n",
    "words= text.split()\n",
    "# Counting the number of words\n",
    "word_count = len(words)\n",
    "print(\"Number of words in the given text:\", word_count)"
   ]
  },
  {
   "cell_type": "markdown",
   "metadata": {
    "id": "CgusNrF2oxMx"
   },
   "source": [
    "**Exercise 5: Check for Palindrome**"
   ]
  },
  {
   "cell_type": "markdown",
   "metadata": {
    "id": "WOaJl-Ajpeu3"
   },
   "source": [
    "Write a Python function called is_palindrome that takes a string as input and returns True if the string is a palindrome, and False otherwise."
   ]
  },
  {
   "cell_type": "code",
   "execution_count": 44,
   "metadata": {
    "colab": {
     "base_uri": "https://localhost:8080/"
    },
    "id": "28lFKrCYk92c",
    "outputId": "242872c2-c456-4bfd-cf0a-ef18a30c908a"
   },
   "outputs": [
    {
     "name": "stdout",
     "output_type": "stream",
     "text": [
      "True\n",
      "False\n"
     ]
    }
   ],
   "source": [
    "def is_palindrome(s):\n",
    "    string = ''.join(char.lower() for char in s if char.isalnum())\n",
    "    return string == string[::-1]\n",
    "test_string = \"Wow!\"\n",
    "print(is_palindrome(test_string))\n",
    "test_string = \"palindrome\"\n",
    "print(is_palindrome(test_string))"
   ]
  }
 ],
 "metadata": {
  "colab": {
   "provenance": []
  },
  "kernelspec": {
   "display_name": "Python 3 (ipykernel)",
   "language": "python",
   "name": "python3"
  },
  "language_info": {
   "codemirror_mode": {
    "name": "ipython",
    "version": 3
   },
   "file_extension": ".py",
   "mimetype": "text/x-python",
   "name": "python",
   "nbconvert_exporter": "python",
   "pygments_lexer": "ipython3",
   "version": "3.12.4"
  }
 },
 "nbformat": 4,
 "nbformat_minor": 4
}
