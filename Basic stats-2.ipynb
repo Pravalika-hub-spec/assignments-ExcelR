{
 "cells": [
  {
   "cell_type": "code",
   "execution_count": 1,
   "metadata": {
    "id": "r_C2z3aeTLWh"
   },
   "outputs": [],
   "source": [
    "from scipy import stats\n",
    "import pandas as pd\n",
    "import numpy as np"
   ]
  },
  {
   "cell_type": "code",
   "execution_count": 2,
   "metadata": {
    "id": "huPnV8QTTZL5"
   },
   "outputs": [],
   "source": [
    " data=pd.Series([13, 1.55, 1.43, 0.92, 1.25, 1.36, 1.32, 0.85, 1.07, 1.48, 1.20, 1.33, 1.18, 1.22, 1.29])"
   ]
  },
  {
   "cell_type": "markdown",
   "metadata": {
    "id": "h5w87BNeXlRJ"
   },
   "source": [
    "a. Build 99% Confidence Interval Using Sample Standard Deviation\n"
   ]
  },
  {
   "cell_type": "code",
   "execution_count": 8,
   "metadata": {
    "colab": {
     "base_uri": "https://localhost:8080/"
    },
    "id": "lsvXF-1tVjct",
    "outputId": "bada61cf-ead1-461e-8266-9493a21416fd"
   },
   "outputs": [
    {
     "data": {
      "text/plain": [
       "2.03"
      ]
     },
     "execution_count": 8,
     "metadata": {},
     "output_type": "execute_result"
    }
   ],
   "source": [
    "np.round(data.mean(),2)"
   ]
  },
  {
   "cell_type": "code",
   "execution_count": 9,
   "metadata": {
    "colab": {
     "base_uri": "https://localhost:8080/"
    },
    "id": "INQuu8pLV1PN",
    "outputId": "ab67df73-e9c6-45ce-8719-559ca5f52eae"
   },
   "outputs": [
    {
     "data": {
      "text/plain": [
       "3.04"
      ]
     },
     "execution_count": 9,
     "metadata": {},
     "output_type": "execute_result"
    }
   ],
   "source": [
    "np.round(data.std(),2)"
   ]
  },
  {
   "cell_type": "code",
   "execution_count": 13,
   "metadata": {
    "colab": {
     "base_uri": "https://localhost:8080/"
    },
    "id": "xX4iog01TbYQ",
    "outputId": "6afb669b-6266-4a57-eb03-da0b1e49d545"
   },
   "outputs": [
    {
     "data": {
      "text/plain": [
       "(-7.019601912487335, 11.079601912487334)"
      ]
     },
     "execution_count": 13,
     "metadata": {},
     "output_type": "execute_result"
    }
   ],
   "source": [
    "conf_interval=stats.t.interval(0.99,loc=2.03,scale=3.04,df=14)\n",
    "conf_interval"
   ]
  },
  {
   "cell_type": "markdown",
   "metadata": {
    "id": "hYamNPUCY-Sa"
   },
   "source": [
    "STEPS:\n",
    "\n",
    "\n",
    "1.   calculating the mean of the given data\n",
    "2.   And also calculating the standard deviation of data\n",
    "3.   finding confidence interval by using T-distribution\n",
    "\n",
    "\n",
    "\n"
   ]
  },
  {
   "cell_type": "markdown",
   "metadata": {
    "id": "rCpXooHLcBz3"
   },
   "source": [
    "\n",
    "\n",
    "*  We used T-distribution here,because of standard deviation of population is not given\n",
    "\n",
    "\n"
   ]
  },
  {
   "cell_type": "markdown",
   "metadata": {
    "id": "g4Lr7JY-X_Lh"
   },
   "source": [
    "b. Build 99% Confidence Interval Using Known Population Standard Deviation"
   ]
  },
  {
   "cell_type": "code",
   "execution_count": 14,
   "metadata": {
    "colab": {
     "base_uri": "https://localhost:8080/"
    },
    "id": "QH-ILuYlUFmZ",
    "outputId": "591486c6-8616-430b-ec0e-b530c718e7aa"
   },
   "outputs": [
    {
     "data": {
      "text/plain": [
       "(1.5148341392902203, 2.5451658607097802)"
      ]
     },
     "execution_count": 14,
     "metadata": {},
     "output_type": "execute_result"
    }
   ],
   "source": [
    "conf_interval=stats.norm.interval(0.99,loc=data.mean(),scale=0.2)\n",
    "conf_interval"
   ]
  }
 ],
 "metadata": {
  "colab": {
   "provenance": []
  },
  "kernelspec": {
   "display_name": "Python 3 (ipykernel)",
   "language": "python",
   "name": "python3"
  },
  "language_info": {
   "codemirror_mode": {
    "name": "ipython",
    "version": 3
   },
   "file_extension": ".py",
   "mimetype": "text/x-python",
   "name": "python",
   "nbconvert_exporter": "python",
   "pygments_lexer": "ipython3",
   "version": "3.12.4"
  }
 },
 "nbformat": 4,
 "nbformat_minor": 4
}
