{
 "cells": [
  {
   "cell_type": "code",
   "execution_count": 85,
   "id": "48aced99-6436-4586-9674-5dae53ff00f1",
   "metadata": {},
   "outputs": [],
   "source": [
    "import pandas as pd\n",
    "import numpy as np"
   ]
  },
  {
   "cell_type": "code",
   "execution_count": 86,
   "id": "05f7ea0b-5a2b-42e2-a087-0c246fea21b5",
   "metadata": {},
   "outputs": [
    {
     "data": {
      "text/html": [
       "<div>\n",
       "<style scoped>\n",
       "    .dataframe tbody tr th:only-of-type {\n",
       "        vertical-align: middle;\n",
       "    }\n",
       "\n",
       "    .dataframe tbody tr th {\n",
       "        vertical-align: top;\n",
       "    }\n",
       "\n",
       "    .dataframe thead th {\n",
       "        text-align: right;\n",
       "    }\n",
       "</style>\n",
       "<table border=\"1\" class=\"dataframe\">\n",
       "  <thead>\n",
       "    <tr style=\"text-align: right;\">\n",
       "      <th></th>\n",
       "      <th>anime_id</th>\n",
       "      <th>name</th>\n",
       "      <th>genre</th>\n",
       "      <th>type</th>\n",
       "      <th>episodes</th>\n",
       "      <th>rating</th>\n",
       "      <th>members</th>\n",
       "    </tr>\n",
       "  </thead>\n",
       "  <tbody>\n",
       "    <tr>\n",
       "      <th>0</th>\n",
       "      <td>32281</td>\n",
       "      <td>Kimi no Na wa.</td>\n",
       "      <td>Drama, Romance, School, Supernatural</td>\n",
       "      <td>Movie</td>\n",
       "      <td>1</td>\n",
       "      <td>9.37</td>\n",
       "      <td>200630</td>\n",
       "    </tr>\n",
       "    <tr>\n",
       "      <th>1</th>\n",
       "      <td>5114</td>\n",
       "      <td>Fullmetal Alchemist: Brotherhood</td>\n",
       "      <td>Action, Adventure, Drama, Fantasy, Magic, Mili...</td>\n",
       "      <td>TV</td>\n",
       "      <td>64</td>\n",
       "      <td>9.26</td>\n",
       "      <td>793665</td>\n",
       "    </tr>\n",
       "    <tr>\n",
       "      <th>2</th>\n",
       "      <td>28977</td>\n",
       "      <td>Gintama°</td>\n",
       "      <td>Action, Comedy, Historical, Parody, Samurai, S...</td>\n",
       "      <td>TV</td>\n",
       "      <td>51</td>\n",
       "      <td>9.25</td>\n",
       "      <td>114262</td>\n",
       "    </tr>\n",
       "    <tr>\n",
       "      <th>3</th>\n",
       "      <td>9253</td>\n",
       "      <td>Steins;Gate</td>\n",
       "      <td>Sci-Fi, Thriller</td>\n",
       "      <td>TV</td>\n",
       "      <td>24</td>\n",
       "      <td>9.17</td>\n",
       "      <td>673572</td>\n",
       "    </tr>\n",
       "    <tr>\n",
       "      <th>4</th>\n",
       "      <td>9969</td>\n",
       "      <td>Gintama&amp;#039;</td>\n",
       "      <td>Action, Comedy, Historical, Parody, Samurai, S...</td>\n",
       "      <td>TV</td>\n",
       "      <td>51</td>\n",
       "      <td>9.16</td>\n",
       "      <td>151266</td>\n",
       "    </tr>\n",
       "    <tr>\n",
       "      <th>...</th>\n",
       "      <td>...</td>\n",
       "      <td>...</td>\n",
       "      <td>...</td>\n",
       "      <td>...</td>\n",
       "      <td>...</td>\n",
       "      <td>...</td>\n",
       "      <td>...</td>\n",
       "    </tr>\n",
       "    <tr>\n",
       "      <th>12289</th>\n",
       "      <td>9316</td>\n",
       "      <td>Toushindai My Lover: Minami tai Mecha-Minami</td>\n",
       "      <td>Hentai</td>\n",
       "      <td>OVA</td>\n",
       "      <td>1</td>\n",
       "      <td>4.15</td>\n",
       "      <td>211</td>\n",
       "    </tr>\n",
       "    <tr>\n",
       "      <th>12290</th>\n",
       "      <td>5543</td>\n",
       "      <td>Under World</td>\n",
       "      <td>Hentai</td>\n",
       "      <td>OVA</td>\n",
       "      <td>1</td>\n",
       "      <td>4.28</td>\n",
       "      <td>183</td>\n",
       "    </tr>\n",
       "    <tr>\n",
       "      <th>12291</th>\n",
       "      <td>5621</td>\n",
       "      <td>Violence Gekiga David no Hoshi</td>\n",
       "      <td>Hentai</td>\n",
       "      <td>OVA</td>\n",
       "      <td>4</td>\n",
       "      <td>4.88</td>\n",
       "      <td>219</td>\n",
       "    </tr>\n",
       "    <tr>\n",
       "      <th>12292</th>\n",
       "      <td>6133</td>\n",
       "      <td>Violence Gekiga Shin David no Hoshi: Inma Dens...</td>\n",
       "      <td>Hentai</td>\n",
       "      <td>OVA</td>\n",
       "      <td>1</td>\n",
       "      <td>4.98</td>\n",
       "      <td>175</td>\n",
       "    </tr>\n",
       "    <tr>\n",
       "      <th>12293</th>\n",
       "      <td>26081</td>\n",
       "      <td>Yasuji no Pornorama: Yacchimae!!</td>\n",
       "      <td>Hentai</td>\n",
       "      <td>Movie</td>\n",
       "      <td>1</td>\n",
       "      <td>5.46</td>\n",
       "      <td>142</td>\n",
       "    </tr>\n",
       "  </tbody>\n",
       "</table>\n",
       "<p>12294 rows × 7 columns</p>\n",
       "</div>"
      ],
      "text/plain": [
       "       anime_id                                               name  \\\n",
       "0         32281                                     Kimi no Na wa.   \n",
       "1          5114                   Fullmetal Alchemist: Brotherhood   \n",
       "2         28977                                           Gintama°   \n",
       "3          9253                                        Steins;Gate   \n",
       "4          9969                                      Gintama&#039;   \n",
       "...         ...                                                ...   \n",
       "12289      9316       Toushindai My Lover: Minami tai Mecha-Minami   \n",
       "12290      5543                                        Under World   \n",
       "12291      5621                     Violence Gekiga David no Hoshi   \n",
       "12292      6133  Violence Gekiga Shin David no Hoshi: Inma Dens...   \n",
       "12293     26081                   Yasuji no Pornorama: Yacchimae!!   \n",
       "\n",
       "                                                   genre   type episodes  \\\n",
       "0                   Drama, Romance, School, Supernatural  Movie        1   \n",
       "1      Action, Adventure, Drama, Fantasy, Magic, Mili...     TV       64   \n",
       "2      Action, Comedy, Historical, Parody, Samurai, S...     TV       51   \n",
       "3                                       Sci-Fi, Thriller     TV       24   \n",
       "4      Action, Comedy, Historical, Parody, Samurai, S...     TV       51   \n",
       "...                                                  ...    ...      ...   \n",
       "12289                                             Hentai    OVA        1   \n",
       "12290                                             Hentai    OVA        1   \n",
       "12291                                             Hentai    OVA        4   \n",
       "12292                                             Hentai    OVA        1   \n",
       "12293                                             Hentai  Movie        1   \n",
       "\n",
       "       rating  members  \n",
       "0        9.37   200630  \n",
       "1        9.26   793665  \n",
       "2        9.25   114262  \n",
       "3        9.17   673572  \n",
       "4        9.16   151266  \n",
       "...       ...      ...  \n",
       "12289    4.15      211  \n",
       "12290    4.28      183  \n",
       "12291    4.88      219  \n",
       "12292    4.98      175  \n",
       "12293    5.46      142  \n",
       "\n",
       "[12294 rows x 7 columns]"
      ]
     },
     "execution_count": 86,
     "metadata": {},
     "output_type": "execute_result"
    }
   ],
   "source": [
    "anime=pd.read_csv(\"C:\\\\Users\\\\DELL\\\\Downloads\\\\DATASCIENCE ASSIGNMENTS\\\\anime.csv\")\n",
    "anime"
   ]
  },
  {
   "cell_type": "code",
   "execution_count": 87,
   "id": "e7812fda-0aeb-4189-8031-8e8c4ea84a7c",
   "metadata": {},
   "outputs": [
    {
     "name": "stdout",
     "output_type": "stream",
     "text": [
      "<class 'pandas.core.frame.DataFrame'>\n",
      "RangeIndex: 12294 entries, 0 to 12293\n",
      "Data columns (total 7 columns):\n",
      " #   Column    Non-Null Count  Dtype  \n",
      "---  ------    --------------  -----  \n",
      " 0   anime_id  12294 non-null  int64  \n",
      " 1   name      12294 non-null  object \n",
      " 2   genre     12232 non-null  object \n",
      " 3   type      12269 non-null  object \n",
      " 4   episodes  12294 non-null  object \n",
      " 5   rating    12064 non-null  float64\n",
      " 6   members   12294 non-null  int64  \n",
      "dtypes: float64(1), int64(2), object(4)\n",
      "memory usage: 672.5+ KB\n"
     ]
    }
   ],
   "source": [
    "anime.info()"
   ]
  },
  {
   "cell_type": "markdown",
   "id": "9d1501a8-982e-4ee5-85e6-281dbb168547",
   "metadata": {},
   "source": [
    "# Data Preprocessing:"
   ]
  },
  {
   "cell_type": "code",
   "execution_count": 89,
   "id": "c1d4a0ac-4231-420b-a6e5-385a36ce1f74",
   "metadata": {},
   "outputs": [
    {
     "data": {
      "text/plain": [
       "317"
      ]
     },
     "execution_count": 89,
     "metadata": {},
     "output_type": "execute_result"
    }
   ],
   "source": [
    "anime.isnull().sum().sum()"
   ]
  },
  {
   "cell_type": "code",
   "execution_count": 90,
   "id": "20c12673-735d-46e3-b1c3-f2c41fc9083a",
   "metadata": {},
   "outputs": [],
   "source": [
    "anime_df=anime.dropna()"
   ]
  },
  {
   "cell_type": "code",
   "execution_count": 91,
   "id": "10954748-b352-4a69-bfe6-050700046a3b",
   "metadata": {},
   "outputs": [
    {
     "name": "stdout",
     "output_type": "stream",
     "text": [
      "name: 12292 unique values\n",
      "genre: 3264 unique values\n",
      "type: 6 unique values\n",
      "episodes: 187 unique values\n"
     ]
    }
   ],
   "source": [
    "for column in anime.select_dtypes(include=['object']).columns:\n",
    "    print(f'{column}: {anime[column].nunique()} unique values')\n"
   ]
  },
  {
   "cell_type": "code",
   "execution_count": 92,
   "id": "f2b25815-0bbc-4209-8757-2bae36779f87",
   "metadata": {},
   "outputs": [
    {
     "data": {
      "image/png": "[encoded data removed]",
      "text/plain": [
       "<Figure size 2000x1000 with 4 Axes>"
      ]
     },
     "metadata": {},
     "output_type": "display_data"
    }
   ],
   "source": [
    "import matplotlib.pyplot as plt\n",
    "anime.hist(figsize=(20,10))\n",
    "plt.show()\n"
   ]
  },
  {
   "cell_type": "markdown",
   "id": "0152c9ae-08eb-43dd-9be7-124bee9c2eef",
   "metadata": {},
   "source": [
    "# Recommendation System:"
   ]
  },
  {
   "cell_type": "code",
   "execution_count": 94,
   "id": "e467a512-2151-4cdb-8fca-6a0c9ac757d5",
   "metadata": {},
   "outputs": [
    {
     "name": "stderr",
     "output_type": "stream",
     "text": [
      "C:\\Users\\DELL\\anaconda3\\Lib\\site-packages\\sklearn\\feature_extraction\\text.py:525: UserWarning: The parameter 'token_pattern' will not be used since 'tokenizer' is not None'\n",
      "  warnings.warn(\n"
     ]
    }
   ],
   "source": [
    "from sklearn.feature_extraction.text import CountVectorizer\n",
    "# Convert genres to a binary matrix\n",
    "count_vectorizer = CountVectorizer(tokenizer=lambda x: x.split(', '))\n",
    "genre_matrix = count_vectorizer.fit_transform(anime_df['genre'])\n"
   ]
  },
  {
   "cell_type": "code",
   "execution_count": 95,
   "id": "a14ebacb-fe27-4883-8b45-ec4f421d6609",
   "metadata": {},
   "outputs": [
    {
     "data": {
      "text/plain": [
       "(12017, 12017)"
      ]
     },
     "execution_count": 95,
     "metadata": {},
     "output_type": "execute_result"
    }
   ],
   "source": [
    "from sklearn.metrics.pairwise import cosine_similarity\n",
    "#  the cosine similarity matrix\n",
    "cosine_sim = cosine_similarity(genre_matrix)\n",
    "cosine_sim.shape\n"
   ]
  },
  {
   "cell_type": "code",
   "execution_count": 96,
   "id": "0ad84fd0-fc0b-471e-9720-11e53b29d0c7",
   "metadata": {},
   "outputs": [],
   "source": [
    "def recommend_anime(anime_name, cosine_sim=cosine_sim, anime_df=anime_df, num_recommendations=5):\n",
    "    anime_idx = anime_df[anime_df['name'] == anime_name].index[0]\n",
    "    sim_scores = list(enumerate(cosine_sim[anime_idx]))\n",
    "   # Sort the anime based on the similarity scores\n",
    "    sim_scores = sorted(sim_scores, key=lambda x: x[1], reverse=True)\n",
    "   #  the top similar anime\n",
    "    sim_scores = sim_scores[1:num_recommendations + 1] \n",
    "    anime_indices = [i[0] for i in sim_scores]\n",
    "    return anime_df['name'].iloc[anime_indices]\n"
   ]
  },
  {
   "cell_type": "code",
   "execution_count": 97,
   "id": "75d1edd3-0ce0-4f17-9e3f-753095a03c82",
   "metadata": {},
   "outputs": [
    {
     "data": {
      "text/plain": [
       "615                                    Naruto: Shippuuden\n",
       "841                                                Naruto\n",
       "1103    Boruto: Naruto the Movie - Naruto ga Hokage ni...\n",
       "1343                                          Naruto x UT\n",
       "1472          Naruto: Shippuuden Movie 4 - The Lost Tower\n",
       "1573    Naruto: Shippuuden Movie 3 - Hi no Ishi wo Tsu...\n",
       "2458                 Naruto Shippuuden: Sunny Side Battle\n",
       "2997    Naruto Soyokazeden Movie: Naruto to Mashin to ...\n",
       "175                                Katekyo Hitman Reborn!\n",
       "7628                              Kyutai Panic Adventure!\n",
       "7837                        Battle Spirits: Ryuuko no Ken\n",
       "206                                         Dragon Ball Z\n",
       "515                                Dragon Ball Kai (2014)\n",
       "588                                       Dragon Ball Kai\n",
       "1209                                  Medaka Box Abnormal\n",
       "Name: name, dtype: object"
      ]
     },
     "execution_count": 97,
     "metadata": {},
     "output_type": "execute_result"
    }
   ],
   "source": [
    "recommended_anime = recommend_anime('Naruto', num_recommendations=15)\n",
    "recommended_anime"
   ]
  },
  {
   "cell_type": "markdown",
   "id": "1271c449-7663-4bd2-b99d-408edf137c66",
   "metadata": {},
   "source": [
    "# Evaluation:"
   ]
  },
  {
   "cell_type": "code",
   "execution_count": 99,
   "id": "01c4f44e-f97f-470a-9716-12db8aa221cd",
   "metadata": {},
   "outputs": [],
   "source": [
    "from sklearn.model_selection import train_test_split\n",
    "\n",
    "# Simulate user preferences by splitting the dataset into a training  set and a test  set\n",
    "train_df, test_df = train_test_split(anime_df, test_size=0.2, random_state=42)\n",
    "train_df = train_df.reset_index(drop=True)\n",
    "test_df = test_df.reset_index(drop=True)\n"
   ]
  },
  {
   "cell_type": "code",
   "execution_count": 100,
   "id": "b07ce86d-84f5-4867-a8e4-ec2d3bb1d6b7",
   "metadata": {},
   "outputs": [
    {
     "name": "stdout",
     "output_type": "stream",
     "text": [
      "6214    Mashiro-iro Symphony: Airi ga Anata no Kanojo ...\n",
      "1376                   Date A Live Movie: Mayuri Judgment\n",
      "1980                                            Nyan Koi!\n",
      "2447                          H2O: Footprints in the Sand\n",
      "3242                            Daitoshokan no Hitsujikai\n",
      "Name: name, dtype: object\n"
     ]
    }
   ],
   "source": [
    "def recommend_anime_for_test_set(anime_name, cosine_sim=cosine_sim, anime_df=anime_df, train_df=train_df, num_recommendations=5):\n",
    "    train_indices = train_df.index\n",
    "    anime_idx = anime_df[anime_df['name'] == anime_name].index[0]\n",
    "    sim_scores = list(enumerate(cosine_sim[anime_idx]))\n",
    "    sim_scores = [sim for sim in sim_scores if sim[0] in train_indices]\n",
    "    sim_scores = sorted(sim_scores, key=lambda x: x[1], reverse=True)\n",
    "    sim_scores = sim_scores[:num_recommendations]\n",
    "    anime_indices = [i[0] for i in sim_scores]\n",
    "    return anime_df['name'].iloc[anime_indices]\n",
    "recommendations = recommend_anime_for_test_set(test_df['name'][0])\n",
    "print(recommendations)\n"
   ]
  },
  {
   "cell_type": "code",
   "execution_count": 101,
   "id": "8e9aab29-016b-425c-8364-7b374d6fb27c",
   "metadata": {},
   "outputs": [
    {
     "name": "stdout",
     "output_type": "stream",
     "text": [
      "              precision    recall  f1-score   support\n",
      "\n",
      "           0       0.60      0.64      0.62        14\n",
      "           1       0.50      0.45      0.48        11\n",
      "\n",
      "    accuracy                           0.56        25\n",
      "   macro avg       0.55      0.55      0.55        25\n",
      "weighted avg       0.56      0.56      0.56        25\n",
      "\n"
     ]
    }
   ],
   "source": [
    "import pandas as pd\n",
    "from sklearn.metrics import classification_report\n",
    "from sklearn.preprocessing import MultiLabelBinarizer\n",
    "ground_truth = pd.DataFrame({\n",
    "    'anime_id': [1, 2, 3, 4, 5],\n",
    "    'true_labels': [[1, 2], [1, 3, 4], [2, 5], [3, 4], [1, 5]]})\n",
    "recommendations = pd.DataFrame({\n",
    "    'anime_id': [1, 2, 3, 4, 5],\n",
    "    'recommended': [[2, 3], [4, 5], [1, 5], [2, 3], [1, 2]]})\n",
    "mlb = MultiLabelBinarizer()\n",
    "y_true = mlb.fit_transform(ground_truth['true_labels'])\n",
    "y_pred = mlb.transform(recommendations['recommended'])\n",
    "y_true_flat = y_true.ravel()\n",
    "y_pred_flat = y_pred.ravel()\n",
    "\n",
    "# classification report\n",
    "report = classification_report(y_true_flat, y_pred_flat)\n",
    "print(report)\n"
   ]
  },
  {
   "cell_type": "code",
   "execution_count": 103,
   "id": "fa3e7010-ebc9-44e0-84ad-210fa48af0b8",
   "metadata": {},
   "outputs": [],
   "source": [
    "#Precision: High precision means that when the system predicts a genre, its usually correct. A low precision indicates that many of the predicted genres are incorrect.\n",
    "#Recall: High recall means that the system correctly identifies a high proportion of actual genres. A low recall indicates that the system misses many relevant genres.\n",
    "#F1-Score: The F1-score is a balance between precision and recall. A higher F1-score indicates better overall performance."
   ]
  },
  {
   "cell_type": "markdown",
   "id": "5f84ce7a-dc24-4dca-b8db-9321082e7e09",
   "metadata": {},
   "source": [
    "# Interview Questions:"
   ]
  },
  {
   "cell_type": "markdown",
   "id": "56f352a0-3e8b-47fa-91b0-2fbf35b5c708",
   "metadata": {},
   "source": [
    "# 1.Can you explain the difference between user-based and item-based collaborative filtering?\n",
    "\n",
    "In simple words item based collaborative filtering is based on the notion of item similarity. While user based collaborative filtering is based on the notion of user similarity."
   ]
  },
  {
   "cell_type": "markdown",
   "id": "4aa7af7d-fd98-4a9f-b358-01ce4d268a27",
   "metadata": {},
   "source": [
    "# 2. What is collaborative filtering, and how does it work?\n",
    "\n",
    "Collaborative filtering is a family of algorithms where there are multiple ways to find similar users or items and multiple ways to calculate rating based on ratings of similar users. Depending on the choices you make, you end up with a type of collaborative filtering approach."
   ]
  }
 ],
 "metadata": {
  "kernelspec": {
   "display_name": "Python 3 (ipykernel)",
   "language": "python",
   "name": "python3"
  },
  "language_info": {
   "codemirror_mode": {
    "name": "ipython",
    "version": 3
   },
   "file_extension": ".py",
   "mimetype": "text/x-python",
   "name": "python",
   "nbconvert_exporter": "python",
   "pygments_lexer": "ipython3",
   "version": "3.12.4"
  }
 },
 "nbformat": 4,
 "nbformat_minor": 5
}
