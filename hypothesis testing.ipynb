{
 "cells": [
  {
   "cell_type": "markdown",
   "id": "82fdbf72-9b8a-4f7d-8cfb-daa8c61422e3",
   "metadata": {},
   "source": [
    "# CHI_SQUARE_TEST"
   ]
  },
  {
   "cell_type": "code",
   "execution_count": 1,
   "id": "c3c5111e-e68c-44e7-8658-b9b8c7947608",
   "metadata": {},
   "outputs": [],
   "source": [
    "import pandas as pd\n",
    "from scipy.stats.contingency import chi2_contingency"
   ]
  },
  {
   "cell_type": "code",
   "execution_count": 7,
   "id": "5790705f-13d8-443e-abce-136cc57a00fd",
   "metadata": {},
   "outputs": [
    {
     "name": "stdout",
     "output_type": "stream",
     "text": [
      "Contingency Table:\n",
      "                  smart thermostat  smart light\n",
      "very satisfied                  50           70\n",
      "satisfied                       80          100\n",
      "neutral                         60           90\n",
      "unsatisfied                     30           50\n",
      "very unsatisfied                20           50\n"
     ]
    }
   ],
   "source": [
    "data={' smart thermostat':[50,80,60,30,20],' smart light':[70,100,90,50,50]}\n",
    "df=pd.DataFrame(data,index=['very satisfied','satisfied','neutral','unsatisfied','very unsatisfied'])\n",
    "print('Contingency Table:')\n",
    "print(df)"
   ]
  },
  {
   "cell_type": "markdown",
   "id": "79d2d4ed-45c9-4870-a2f0-b0a8b8ab9e6d",
   "metadata": {},
   "source": [
    "# 1.state hypothesis:"
   ]
  },
  {
   "cell_type": "code",
   "execution_count": 38,
   "id": "e094027b-6365-465b-b6ac-887843659362",
   "metadata": {},
   "outputs": [],
   "source": [
    "h0=\"There is no significant association between the type of device purchased and the customer's satisfaction level\"\n",
    "h1=\"There is a significant association between the type of device purchased and the customer's satisfaction level\""
   ]
  },
  {
   "cell_type": "markdown",
   "id": "9569a7a1-904d-491a-9bbc-9e9ea3fdf8c7",
   "metadata": {},
   "source": [
    "# 2.Compute chi_square statistics"
   ]
  },
  {
   "cell_type": "code",
   "execution_count": 25,
   "id": "44253c42-e2ad-42f6-b8ab-d8897878471b",
   "metadata": {},
   "outputs": [],
   "source": [
    "chi2,p,df,expected=chi2_contingency(df)"
   ]
  },
  {
   "cell_type": "code",
   "execution_count": 29,
   "id": "cbbce5e5-34ca-43d9-8969-b940d52ff252",
   "metadata": {},
   "outputs": [
    {
     "name": "stdout",
     "output_type": "stream",
     "text": [
      "Chi-Square: 5.638227513227513\n",
      "P-Value: 0.22784371130697179\n",
      "Degrees of Freedom: 4\n",
      "Expected Frequencies:\n",
      "[[ 48.  72.]\n",
      " [ 72. 108.]\n",
      " [ 60.  90.]\n",
      " [ 32.  48.]\n",
      " [ 28.  42.]]\n"
     ]
    }
   ],
   "source": [
    "print(f\"Chi-Square: {chi2}\")\n",
    "print(f\"P-Value: {p}\")\n",
    "print(f\"Degrees of Freedom: {dof}\")\n",
    "print(\"Expected Frequencies:\")\n",
    "print(expected)"
   ]
  },
  {
   "cell_type": "markdown",
   "id": "b77e4783-6b6d-42c5-aa44-50197d5a1e86",
   "metadata": {},
   "source": [
    "# 3.Determine critical value"
   ]
  },
  {
   "cell_type": "code",
   "execution_count": 42,
   "id": "655261c0-ecb4-415d-b4e0-5801dda47f0e",
   "metadata": {},
   "outputs": [],
   "source": [
    "alpha = 0.05"
   ]
  },
  {
   "cell_type": "markdown",
   "id": "6b6ad16d-0ccf-4e15-b7b5-0e2db903ca22",
   "metadata": {},
   "source": [
    "# 4.make a decision"
   ]
  },
  {
   "cell_type": "code",
   "execution_count": 46,
   "id": "03d8e01f-aee4-48b4-851a-a837515d83cb",
   "metadata": {},
   "outputs": [
    {
     "name": "stdout",
     "output_type": "stream",
     "text": [
      "There is no significant association between the type of device purchased and the customer's satisfaction level\n"
     ]
    }
   ],
   "source": [
    "if p < alpha:\n",
    "    print(h1)\n",
    "else:\n",
    "    print(h0)"
   ]
  },
  {
   "cell_type": "code",
   "execution_count": null,
   "id": "e2fba428-867e-48c1-99a2-d406020e6e1c",
   "metadata": {},
   "outputs": [],
   "source": []
  },
  {
   "cell_type": "markdown",
   "id": "21e95625-007e-4e47-b03e-2d991eb5956e",
   "metadata": {},
   "source": [
    "# HYPOTHESIS TESTING"
   ]
  },
  {
   "cell_type": "code",
   "execution_count": 60,
   "id": "d5d321d5-6114-4f46-9c76-946b9ac68a0a",
   "metadata": {},
   "outputs": [],
   "source": [
    "\n",
    "import math\n",
    "import pandas as pd\n",
    "from scipy import stats"
   ]
  },
  {
   "cell_type": "code",
   "execution_count": 56,
   "id": "9e59af2a-3d86-4646-9e8e-ad00f85f86f9",
   "metadata": {},
   "outputs": [],
   "source": [
    "# Given data\n",
    "sample_mean = 3050  # Rs\n",
    "theoretical_mean = 1000 + 5 * 600  # Rs\n",
    "sample_std_dev = 5 * 25  # Rs \n",
    "sample_size = 25\n"
   ]
  },
  {
   "cell_type": "markdown",
   "id": "9a6e4003-0a6f-45a9-b021-27fe28732672",
   "metadata": {},
   "source": [
    "# 1.state hypotheses"
   ]
  },
  {
   "cell_type": "code",
   "execution_count": null,
   "id": "c7a33c53-b642-43a0-92ae-b3db18831f54",
   "metadata": {},
   "outputs": [],
   "source": [
    "H0=\"the mean weekly operating cost is equal to the theoretical cost\" \n",
    "H1=\"the mean weekly operating cost is not equal to the theoretical cost \""
   ]
  },
  {
   "cell_type": "markdown",
   "id": "b5c70fa9-725a-4ddd-a92c-20f11325d936",
   "metadata": {},
   "source": [
    "# 2. Calculate the Test Statistic:"
   ]
  },
  {
   "cell_type": "code",
   "execution_count": 118,
   "id": "1563ee53-4d7a-4d16-b5d6-2ade4e3ebaa3",
   "metadata": {},
   "outputs": [],
   "source": [
    "t= (sample_mean - theoretical_mean) / (sample_std_dev / math.sqrt(sample_size))"
   ]
  },
  {
   "cell_type": "code",
   "execution_count": 92,
   "id": "1a1da08a-268f-4cd9-85a8-85d4d3011759",
   "metadata": {},
   "outputs": [],
   "source": [
    "df=sample_size-1"
   ]
  },
  {
   "cell_type": "code",
   "execution_count": 120,
   "id": "6164dd10-4468-4d2f-b931-866fd4f720ab",
   "metadata": {},
   "outputs": [],
   "source": [
    "p= 2 * (1 - stats.t.cdf(abs(t_statistic), df))"
   ]
  },
  {
   "cell_type": "code",
   "execution_count": 122,
   "id": "091e7563-0eba-4a80-9901-bb52490f4302",
   "metadata": {},
   "outputs": [
    {
     "name": "stdout",
     "output_type": "stream",
     "text": [
      "Test Statistic (t): -38.0\n",
      "P-value: 0.0\n"
     ]
    }
   ],
   "source": [
    "print(f\"Test Statistic (t): {t}\")\n",
    "print(f\"P-value: {p}\")\n"
   ]
  },
  {
   "cell_type": "markdown",
   "id": "fb73763f-9c0a-4d25-8cc0-d001cabcac5b",
   "metadata": {},
   "source": [
    "# 3.determine critical value"
   ]
  },
  {
   "cell_type": "code",
   "execution_count": 139,
   "id": "838f64c6-1d07-4fcd-8e44-1119afe32c8b",
   "metadata": {},
   "outputs": [],
   "source": [
    "alpha = 0.05"
   ]
  },
  {
   "cell_type": "markdown",
   "id": "b91b04c3-5b3e-47a4-887c-bcac3b93e4db",
   "metadata": {},
   "source": [
    "# 4.make a decision"
   ]
  },
  {
   "cell_type": "code",
   "execution_count": 142,
   "id": "f2cbfdfd-3abf-4324-9bce-243ca0ee84a5",
   "metadata": {},
   "outputs": [
    {
     "name": "stdout",
     "output_type": "stream",
     "text": [
      "the mean weekly operating cost is not equal to the theoretical cost \n"
     ]
    }
   ],
   "source": [
    "if p_value < alpha:\n",
    "    print(H1)\n",
    "else:\n",
    "    print(H0)"
   ]
  }
 ],
 "metadata": {
  "kernelspec": {
   "display_name": "Python 3 (ipykernel)",
   "language": "python",
   "name": "python3"
  },
  "language_info": {
   "codemirror_mode": {
    "name": "ipython",
    "version": 3
   },
   "file_extension": ".py",
   "mimetype": "text/x-python",
   "name": "python",
   "nbconvert_exporter": "python",
   "pygments_lexer": "ipython3",
   "version": "3.12.4"
  }
 },
 "nbformat": 4,
 "nbformat_minor": 5
}
